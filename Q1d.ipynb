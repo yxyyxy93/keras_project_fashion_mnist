{
 "cells": [
  {
   "cell_type": "code",
   "execution_count": 1,
   "metadata": {},
   "outputs": [
    {
     "name": "stderr",
     "output_type": "stream",
     "text": [
      "Using TensorFlow backend.\n"
     ]
    }
   ],
   "source": [
    "import pandas as pd\n",
    "import numpy as np\n",
    "import warnings\n",
    "warnings.filterwarnings('ignore')\n",
    "\n",
    "import matplotlib.pyplot as plt\n",
    "from sklearn.model_selection import train_test_split\n",
    "\n",
    "import keras\n",
    "from keras.layers import Input, Flatten, Dense\n",
    "from keras.models import Model\n",
    "\n",
    "# Import from sklearn.metrics the function confusion matrix \n",
    "from sklearn.metrics import confusion_matrix, classification_report\n",
    "\n",
    "# sing five epochs fits the model to the data\n",
    "num_classes = 10\n",
    "epochs = 20"
   ]
  },
  {
   "cell_type": "code",
   "execution_count": 2,
   "metadata": {},
   "outputs": [],
   "source": [
    "from keras.datasets import fashion_mnist\n",
    "\n",
    "(x_train, y_train), (x_test, y_test) = fashion_mnist.load_data()"
   ]
  },
  {
   "cell_type": "code",
   "execution_count": 3,
   "metadata": {},
   "outputs": [],
   "source": [
    "# normalize the image data in x_train and x_test (from 0 to 255)\n",
    "# rescale this from 0 to 1\n",
    "\n",
    "x_train = x_train/255\n",
    "\n",
    "x_test= x_test/255"
   ]
  },
  {
   "cell_type": "code",
   "execution_count": 4,
   "metadata": {},
   "outputs": [],
   "source": [
    "# split the training data into validation and training data \n",
    "# for cross validation\n",
    "x_train, x_validate, y_train, y_validate = train_test_split(x_train, y_train,test_size = 0.2,random_state = 12345)"
   ]
  },
  {
   "cell_type": "code",
   "execution_count": 5,
   "metadata": {
    "scrolled": true
   },
   "outputs": [
    {
     "name": "stdout",
     "output_type": "stream",
     "text": [
      "(48000, 28, 28)\n"
     ]
    },
    {
     "data": {
      "image/png": "[encoded data removed]",
      "text/plain": [
       "<Figure size 432x288 with 1 Axes>"
      ]
     },
     "metadata": {
      "needs_background": "light"
     },
     "output_type": "display_data"
    }
   ],
   "source": [
    "# visualise the image to have a look \n",
    "print(x_train.shape)\n",
    "\n",
    "image = x_train[10,:]\n",
    "plt.imshow(image)\n",
    "plt.show()"
   ]
  },
  {
   "cell_type": "code",
   "execution_count": 6,
   "metadata": {},
   "outputs": [],
   "source": [
    "# Define model\n",
    "nrows = 28\n",
    "ncols = 28\n",
    "batch = 512\n",
    "\n",
    "image_shape = (nrows, ncols, 1) # 3d with rows and columns"
   ]
  },
  {
   "cell_type": "code",
   "execution_count": 7,
   "metadata": {},
   "outputs": [
    {
     "name": "stdout",
     "output_type": "stream",
     "text": [
      "WARNING:tensorflow:From C:\\Users\\xiayang\\AppData\\Local\\Continuum\\anaconda3\\lib\\site-packages\\keras\\backend\\tensorflow_backend.py:74: The name tf.get_default_graph is deprecated. Please use tf.compat.v1.get_default_graph instead.\n",
      "\n",
      "WARNING:tensorflow:From C:\\Users\\xiayang\\AppData\\Local\\Continuum\\anaconda3\\lib\\site-packages\\keras\\backend\\tensorflow_backend.py:517: The name tf.placeholder is deprecated. Please use tf.compat.v1.placeholder instead.\n",
      "\n",
      "WARNING:tensorflow:From C:\\Users\\xiayang\\AppData\\Local\\Continuum\\anaconda3\\lib\\site-packages\\keras\\backend\\tensorflow_backend.py:4138: The name tf.random_uniform is deprecated. Please use tf.random.uniform instead.\n",
      "\n"
     ]
    }
   ],
   "source": [
    "# Use the Keras Sequential approach to building neural net.\n",
    "# Use the ReLU activation function for the layer\n",
    "# Use 512 (2^9) units for the hidden layer.\n",
    "\n",
    "inputLayer=Input(shape=(28,28)) \n",
    "tmp=Flatten()(inputLayer) #Will turn int a 1D array\n",
    "#tmp=keras.layers.Concatenate(input,tmp)\n",
    "tmp=Dense(units=512, activation='sigmoid')(tmp)\n",
    "outputLayer=Dense(units=10,activation='softmax')(tmp)\n"
   ]
  },
  {
   "cell_type": "code",
   "execution_count": 8,
   "metadata": {},
   "outputs": [],
   "source": [
    "# one-hot\n",
    "from keras.utils import to_categorical\n",
    "\n",
    "train_labels = to_categorical(y_train)\n",
    "test_labels = to_categorical(y_test)\n"
   ]
  },
  {
   "cell_type": "code",
   "execution_count": 9,
   "metadata": {
    "scrolled": true
   },
   "outputs": [
    {
     "name": "stdout",
     "output_type": "stream",
     "text": [
      "WARNING:tensorflow:From C:\\Users\\xiayang\\AppData\\Local\\Continuum\\anaconda3\\lib\\site-packages\\keras\\optimizers.py:790: The name tf.train.Optimizer is deprecated. Please use tf.compat.v1.train.Optimizer instead.\n",
      "\n",
      "WARNING:tensorflow:From C:\\Users\\xiayang\\AppData\\Local\\Continuum\\anaconda3\\lib\\site-packages\\keras\\backend\\tensorflow_backend.py:3295: The name tf.log is deprecated. Please use tf.math.log instead.\n",
      "\n",
      "WARNING:tensorflow:From C:\\Users\\xiayang\\AppData\\Local\\Continuum\\anaconda3\\lib\\site-packages\\tensorflow_core\\python\\ops\\math_grad.py:1424: where (from tensorflow.python.ops.array_ops) is deprecated and will be removed in a future version.\n",
      "Instructions for updating:\n",
      "Use tf.where in 2.0, which has the same broadcast rule as np.where\n",
      "WARNING:tensorflow:From C:\\Users\\xiayang\\AppData\\Local\\Continuum\\anaconda3\\lib\\site-packages\\keras\\backend\\tensorflow_backend.py:986: The name tf.assign_add is deprecated. Please use tf.compat.v1.assign_add instead.\n",
      "\n",
      "WARNING:tensorflow:From C:\\Users\\xiayang\\AppData\\Local\\Continuum\\anaconda3\\lib\\site-packages\\keras\\backend\\tensorflow_backend.py:973: The name tf.assign is deprecated. Please use tf.compat.v1.assign instead.\n",
      "\n",
      "WARNING:tensorflow:From C:\\Users\\xiayang\\AppData\\Local\\Continuum\\anaconda3\\lib\\site-packages\\keras\\backend\\tensorflow_backend.py:2741: The name tf.Session is deprecated. Please use tf.compat.v1.Session instead.\n",
      "\n",
      "Epoch 1/20\n",
      "WARNING:tensorflow:From C:\\Users\\xiayang\\AppData\\Local\\Continuum\\anaconda3\\lib\\site-packages\\keras\\backend\\tensorflow_backend.py:174: The name tf.get_default_session is deprecated. Please use tf.compat.v1.get_default_session instead.\n",
      "\n",
      "WARNING:tensorflow:From C:\\Users\\xiayang\\AppData\\Local\\Continuum\\anaconda3\\lib\\site-packages\\keras\\backend\\tensorflow_backend.py:181: The name tf.ConfigProto is deprecated. Please use tf.compat.v1.ConfigProto instead.\n",
      "\n",
      "WARNING:tensorflow:From C:\\Users\\xiayang\\AppData\\Local\\Continuum\\anaconda3\\lib\\site-packages\\keras\\backend\\tensorflow_backend.py:190: The name tf.global_variables is deprecated. Please use tf.compat.v1.global_variables instead.\n",
      "\n",
      "WARNING:tensorflow:From C:\\Users\\xiayang\\AppData\\Local\\Continuum\\anaconda3\\lib\\site-packages\\keras\\backend\\tensorflow_backend.py:199: The name tf.is_variable_initialized is deprecated. Please use tf.compat.v1.is_variable_initialized instead.\n",
      "\n",
      "WARNING:tensorflow:From C:\\Users\\xiayang\\AppData\\Local\\Continuum\\anaconda3\\lib\\site-packages\\keras\\backend\\tensorflow_backend.py:206: The name tf.variables_initializer is deprecated. Please use tf.compat.v1.variables_initializer instead.\n",
      "\n",
      "48000/48000 [==============================] - 2s 31us/step - loss: 0.8281 - acc: 0.7251\n",
      "Epoch 2/20\n",
      "48000/48000 [==============================] - 1s 25us/step - loss: 0.5411 - acc: 0.8044\n",
      "Epoch 3/20\n",
      "48000/48000 [==============================] - 1s 25us/step - loss: 0.4846 - acc: 0.8247\n",
      "Epoch 4/20\n",
      "48000/48000 [==============================] - 1s 24us/step - loss: 0.4518 - acc: 0.8368\n",
      "Epoch 5/20\n",
      "48000/48000 [==============================] - 1s 23us/step - loss: 0.4330 - acc: 0.8415\n",
      "Epoch 6/20\n",
      "48000/48000 [==============================] - 1s 25us/step - loss: 0.4135 - acc: 0.8486\n",
      "Epoch 7/20\n",
      "48000/48000 [==============================] - 1s 23us/step - loss: 0.4008 - acc: 0.8531\n",
      "Epoch 8/20\n",
      "48000/48000 [==============================] - 1s 23us/step - loss: 0.3876 - acc: 0.8588\n",
      "Epoch 9/20\n",
      "48000/48000 [==============================] - 1s 23us/step - loss: 0.3767 - acc: 0.8629\n",
      "Epoch 10/20\n",
      "48000/48000 [==============================] - 1s 23us/step - loss: 0.3674 - acc: 0.8661\n",
      "Epoch 11/20\n",
      "48000/48000 [==============================] - 1s 24us/step - loss: 0.3605 - acc: 0.8671\n",
      "Epoch 12/20\n",
      "48000/48000 [==============================] - 1s 23us/step - loss: 0.3511 - acc: 0.8700\n",
      "Epoch 13/20\n",
      "48000/48000 [==============================] - 1s 24us/step - loss: 0.3436 - acc: 0.8755\n",
      "Epoch 14/20\n",
      "48000/48000 [==============================] - 1s 22us/step - loss: 0.3361 - acc: 0.8769: 0s - loss: 0.3351 - acc: 0.8\n",
      "Epoch 15/20\n",
      "48000/48000 [==============================] - 1s 23us/step - loss: 0.3278 - acc: 0.8806\n",
      "Epoch 16/20\n",
      "48000/48000 [==============================] - 1s 24us/step - loss: 0.3227 - acc: 0.8804\n",
      "Epoch 17/20\n",
      "48000/48000 [==============================] - 1s 24us/step - loss: 0.3168 - acc: 0.8818\n",
      "Epoch 18/20\n",
      "48000/48000 [==============================] - 1s 23us/step - loss: 0.3136 - acc: 0.8833\n",
      "Epoch 19/20\n",
      "48000/48000 [==============================] - 1s 23us/step - loss: 0.3053 - acc: 0.8870\n",
      "Epoch 20/20\n",
      "48000/48000 [==============================] - 1s 24us/step - loss: 0.3042 - acc: 0.8879\n"
     ]
    },
    {
     "data": {
      "text/plain": [
       "<keras.callbacks.History at 0x22212798948>"
      ]
     },
     "execution_count": 9,
     "metadata": {},
     "output_type": "execute_result"
    }
   ],
   "source": [
    "# complie the mode \n",
    "\n",
    "batch = 512\n",
    "\n",
    "model_cnn=Model(inputLayer,outputLayer)\n",
    "model_cnn.compile(optimizer='rmsprop',\n",
    "                  loss='categorical_crossentropy',\n",
    "                  metrics=['accuracy'])\n",
    "\n",
    "model_cnn.fit(x_train,\n",
    "              train_labels, \n",
    "              epochs=epochs, \n",
    "              batch_size=batch)\n"
   ]
  },
  {
   "cell_type": "code",
   "execution_count": 10,
   "metadata": {},
   "outputs": [],
   "source": [
    "# Print the confusion matrix of the errors on the test data.\n",
    "y_pred = model_cnn.predict(x_test)\n",
    "\n",
    "matrix = confusion_matrix(y_test, y_pred.argmax(axis=1))"
   ]
  },
  {
   "cell_type": "code",
   "execution_count": 11,
   "metadata": {},
   "outputs": [
    {
     "name": "stdout",
     "output_type": "stream",
     "text": [
      "[[668   6   8  68   2   1 241   0   6   0]\n",
      " [  0 968   0  22   2   0   8   0   0   0]\n",
      " [  5   2 773  17  47   1 155   0   0   0]\n",
      " [  7  15  11 903  18   1  42   0   3   0]\n",
      " [  0   1 161  48 597   1 190   0   2   0]\n",
      " [  0   0   0   1   0 969   0  17   1  12]\n",
      " [ 54   2  78  49  31   1 779   0   6   0]\n",
      " [  0   0   0   0   0  61   0 901   0  38]\n",
      " [  3   1   2   6   4   3  17   4 960   0]\n",
      " [  0   0   0   1   0  17   1  29   0 952]]\n",
      "Classification Report\n",
      "              precision    recall  f1-score   support\n",
      "\n",
      " T-shirt/top       0.91      0.67      0.77      1000\n",
      "     Trouser       0.97      0.97      0.97      1000\n",
      "    Pullover       0.75      0.77      0.76      1000\n",
      "       Dress       0.81      0.90      0.85      1000\n",
      "        Coat       0.85      0.60      0.70      1000\n",
      "      Sandal       0.92      0.97      0.94      1000\n",
      "       Shirt       0.54      0.78      0.64      1000\n",
      "     Sneaker       0.95      0.90      0.92      1000\n",
      "         Bag       0.98      0.96      0.97      1000\n",
      "  Ankle boot       0.95      0.95      0.95      1000\n",
      "\n",
      "    accuracy                           0.85     10000\n",
      "   macro avg       0.86      0.85      0.85     10000\n",
      "weighted avg       0.86      0.85      0.85     10000\n",
      "\n"
     ]
    }
   ],
   "source": [
    "print(matrix)\n",
    "\n",
    "names= [\"T-shirt/top\", \"Trouser\", \"Pullover\", \"Dress\", \"Coat\",\n",
    "\"Sandal\", \"Shirt\", \"Sneaker\", \"Bag\", \"Ankle boot\"]\n",
    " \n",
    "print('Classification Report')\n",
    "print(classification_report(y_test, y_pred.argmax(axis=1), target_names=names))"
   ]
  },
  {
   "cell_type": "code",
   "execution_count": null,
   "metadata": {},
   "outputs": [],
   "source": []
  }
 ],
 "metadata": {
  "kernelspec": {
   "display_name": "Python 3",
   "language": "python",
   "name": "python3"
  },
  "language_info": {
   "codemirror_mode": {
    "name": "ipython",
    "version": 3
   },
   "file_extension": ".py",
   "mimetype": "text/x-python",
   "name": "python",
   "nbconvert_exporter": "python",
   "pygments_lexer": "ipython3",
   "version": "3.7.4"
  }
 },
 "nbformat": 4,
 "nbformat_minor": 2
}
